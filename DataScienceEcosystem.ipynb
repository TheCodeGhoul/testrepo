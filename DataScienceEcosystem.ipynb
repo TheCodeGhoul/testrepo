{
 "cells": [
  {
   "cell_type": "markdown",
   "id": "132a98ec-f555-4626-845a-15f506ff1250",
   "metadata": {},
   "source": [
    "# Data Science Tools and Ecosystem"
   ]
  },
  {
   "cell_type": "markdown",
   "id": "587deb2f-999c-4caf-a94e-e4c97d154287",
   "metadata": {},
   "source": []
  },
  {
   "cell_type": "markdown",
   "id": "ff5ca409-4279-44b8-9f5f-5e8cc7e5c9c6",
   "metadata": {},
   "source": [
    "In this notebook, Data Science Tools and Ecosystem are summarized.\n"
   ]
  },
  {
   "cell_type": "markdown",
   "id": "c9a215f4-e650-4a39-91bc-1d05450e3d7f",
   "metadata": {},
   "source": []
  },
  {
   "cell_type": "markdown",
   "id": "6e65a26f-a711-45b9-baa6-acf8ac4f945c",
   "metadata": {},
   "source": [
    "Some of the popular languages that Data Scientists use are:\r\n",
    "\r\n",
    "1. Python\r\n",
    "2. R\r\n",
    "3. SQL\r\n",
    "4. Julia"
   ]
  },
  {
   "cell_type": "markdown",
   "id": "0eeb49c1-659a-48c0-a143-1cea09dc4672",
   "metadata": {},
   "source": [
    "Some of the commonly used libraries used by Data Scientists include:\r\n",
    "\r\n",
    "1. NumPy\r\n",
    "2. Pandas\r\n",
    "3. Scikit-learn\r\n",
    "4. Matplotlib\r\n",
    "5. TensorFlow\r\n"
   ]
  },
  {
   "cell_type": "markdown",
   "id": "b21542a7-d07c-4c69-b947-d69c5ddf8065",
   "metadata": {},
   "source": [
    "| Data Science Tools |\r\n",
    "|--------------------|\r\n",
    "| Jupyter Notebook   |\r\n",
    "| RStudio            |\r\n",
    "| Apache Zeppelin    |\r\n"
   ]
  },
  {
   "cell_type": "markdown",
   "id": "e6bc75b8-d5e8-45f1-9986-005c271721b5",
   "metadata": {},
   "source": [
    "### Below are a few examples of evaluating arithmetic expressions in Python."
   ]
  },
  {
   "cell_type": "code",
   "execution_count": 4,
   "id": "b872b209-e256-4c15-9cd0-c6d04fafe0cf",
   "metadata": {},
   "outputs": [
    {
     "data": {
      "text/plain": [
       "17"
      ]
     },
     "execution_count": 4,
     "metadata": {},
     "output_type": "execute_result"
    }
   ],
   "source": [
    "# This is a simple arithmetic expression to multiply then add integers\n",
    "(3 * 4) + 5"
   ]
  },
  {
   "cell_type": "code",
   "execution_count": 5,
   "id": "d41777df-be6e-4ba1-8d5b-ea409d652a59",
   "metadata": {},
   "outputs": [
    {
     "data": {
      "text/plain": [
       "3.3333333333333335"
      ]
     },
     "execution_count": 5,
     "metadata": {},
     "output_type": "execute_result"
    }
   ],
   "source": [
    "# This will convert 200 minutes to hours by dividing by 60\n",
    "200 / 60"
   ]
  },
  {
   "cell_type": "markdown",
   "id": "3850ca1e-9b5f-42b4-b2ee-3f2728dd9af9",
   "metadata": {},
   "source": [
    "**Objectives:**\n",
    "\n",
    "- List popular languages for Data Science\n",
    "- List commonly used libraries in Data Science\n",
    "- Demonstrate how to create markdown cells\n",
    "- Show examples of basic arithmetic operations in Python\n",
    "- Convert units of time"
   ]
  },
  {
   "cell_type": "markdown",
   "id": "f30a9b40-f32e-4aec-9900-e8384ce30295",
   "metadata": {},
   "source": [
    "## Author\n",
    "\n",
    "Raphael Reis D'Almeida Yaghdjian"
   ]
  },
  {
   "cell_type": "code",
   "execution_count": null,
   "id": "de2b9150-cbb0-4638-91e7-c7b8ae9ac62e",
   "metadata": {},
   "outputs": [],
   "source": []
  }
 ],
 "metadata": {
  "kernelspec": {
   "display_name": "Python 3 (ipykernel)",
   "language": "python",
   "name": "python3"
  },
  "language_info": {
   "codemirror_mode": {
    "name": "ipython",
    "version": 3
   },
   "file_extension": ".py",
   "mimetype": "text/x-python",
   "name": "python",
   "nbconvert_exporter": "python",
   "pygments_lexer": "ipython3",
   "version": "3.11.7"
  }
 },
 "nbformat": 4,
 "nbformat_minor": 5
}
